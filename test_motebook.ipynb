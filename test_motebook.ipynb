{
 "cells": [
  {
   "cell_type": "code",
   "execution_count": null,
   "metadata": {},
   "outputs": [],
   "source": [
    "## function example\n",
    "\n",
    "def check(a, sum=6):\n",
    "    for i in range(len(a)):\n",
    "        for j in range(1:len(a))\n",
    "        \n",
    "    \n"
   ]
  },
  {
   "cell_type": "code",
   "execution_count": null,
   "metadata": {},
   "outputs": [],
   "source": [
    "a = [1,2,3,4,5,6,7]\n",
    "len(a)"
   ]
  },
  {
   "cell_type": "code",
   "execution_count": null,
   "metadata": {},
   "outputs": [],
   "source": [
    "print (\"a\")"
   ]
  },
  {
   "cell_type": "code",
   "execution_count": null,
   "metadata": {},
   "outputs": [],
   "source": [
    "print (a)"
   ]
  },
  {
   "cell_type": "code",
   "execution_count": null,
   "metadata": {},
   "outputs": [],
   "source": [
    "a = [1,2,3,4,5,6,7]\n",
    "for i in range(len(a) - 1):\n",
    "    print(\"i: \", i)\n",
    "    j=i+1\n",
    "    while j < (len(a)):\n",
    "        print(\"j:   \", j)\n",
    "        j+=1"
   ]
  },
  {
   "cell_type": "code",
   "execution_count": null,
   "metadata": {},
   "outputs": [],
   "source": [
    "a = [1,2,3,4,5,6,7]\n",
    "for i in range(1,len(a)):\n",
    "    print(i)"
   ]
  },
  {
   "cell_type": "code",
   "execution_count": null,
   "metadata": {},
   "outputs": [],
   "source": [
    "numbers = [1,2,4,5,6]\n",
    "for i in range(len(numbers)):\n",
    "    print (i)\n",
    "    numbers[i] = numbers[i] * 2\n",
    "    \n",
    "print (numbers)\n",
    "\n"
   ]
  },
  {
   "cell_type": "code",
   "execution_count": 3,
   "metadata": {},
   "outputs": [],
   "source": [
    "## a = [1,2,3,4,5,6,7]def \n",
    "\n",
    "def myfun(a,sum=6):\n",
    "    for i in range(len(a) - 1):\n",
    "            #print (a)    \n",
    "            #print(\"i: \", i)\n",
    "            \n",
    "            j=i+1\n",
    "            while j < (len(a)):\n",
    "                 if ((a[i] + a[j]) == sum):\n",
    "                        print (a[i], a[j])\n",
    "                 j=j+1\n",
    "                        "
   ]
  },
  {
   "cell_type": "code",
   "execution_count": 4,
   "metadata": {},
   "outputs": [
    {
     "name": "stdout",
     "output_type": "stream",
     "text": [
      "1 5\n",
      "4 2\n",
      "5 1\n",
      "3 3\n"
     ]
    }
   ],
   "source": [
    "myarr = [1,4,5,2,3,3,1]\n",
    "myfun(myarr)"
   ]
  },
  {
   "cell_type": "code",
   "execution_count": 3,
   "metadata": {},
   "outputs": [
    {
     "name": "stdout",
     "output_type": "stream",
     "text": [
      "Hello -f\n"
     ]
    }
   ],
   "source": [
    "## another example for SRGV\n",
    "\n",
    "import sys\n",
    "\n",
    "def main():\n",
    "\n",
    "  if len(sys.argv) >= 2:\n",
    "    name = sys.argv[1]\n",
    "  else:\n",
    "    name = 'World'\n",
    "  print ('Hello', name)\n",
    "\n",
    "if __name__ == '__main__':\n",
    "  main()"
   ]
  },
  {
   "cell_type": "code",
   "execution_count": null,
   "metadata": {},
   "outputs": [],
   "source": []
  }
 ],
 "metadata": {
  "kernelspec": {
   "display_name": "Python 3",
   "language": "python",
   "name": "python3"
  },
  "language_info": {
   "codemirror_mode": {
    "name": "ipython",
    "version": 3
   },
   "file_extension": ".py",
   "mimetype": "text/x-python",
   "name": "python",
   "nbconvert_exporter": "python",
   "pygments_lexer": "ipython3",
   "version": "3.6.7"
  }
 },
 "nbformat": 4,
 "nbformat_minor": 2
}
